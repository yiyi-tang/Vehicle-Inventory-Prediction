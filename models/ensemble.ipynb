{
 "cells": [
  {
   "cell_type": "code",
   "execution_count": 40,
   "metadata": {},
   "outputs": [],
   "source": [
    "import pandas as pd\n",
    "import numpy as np\n",
    "from sklearn.metrics import root_mean_squared_error\n",
    "\n",
    "submission_df1 = pd.read_excel('submission_file_updated.xlsx', sheet_name='Predictions')\n",
    "submission_df2 = pd.read_excel('submission_file_updated_fill_na.xlsx', sheet_name='Predictions')\n",
    "submission_df3 = pd.read_excel('submission_file_updated_class.xlsx', sheet_name='Predictions')\n",
    "# submission_df4 = pd.read_excel('submission_file_xgboost.xlsx', sheet_name='Predictions')\n",
    "submission_df4 = pd.read_csv('submission_xgboost2.csv')\n",
    "column_mapping = {\n",
    "    'Vehicle Population':'Predictions'\n",
    "}\n",
    "\n",
    "submission_df4.rename(columns=column_mapping, inplace=True)\n",
    "submission_df = (submission_df1+submission_df2+submission_df3+submission_df4)/4\n"
   ]
  },
  {
   "cell_type": "code",
   "execution_count": 41,
   "metadata": {},
   "outputs": [
    {
     "data": {
      "text/html": [
       "<div>\n",
       "<style scoped>\n",
       "    .dataframe tbody tr th:only-of-type {\n",
       "        vertical-align: middle;\n",
       "    }\n",
       "\n",
       "    .dataframe tbody tr th {\n",
       "        vertical-align: top;\n",
       "    }\n",
       "\n",
       "    .dataframe thead th {\n",
       "        text-align: right;\n",
       "    }\n",
       "</style>\n",
       "<table border=\"1\" class=\"dataframe\">\n",
       "  <thead>\n",
       "    <tr style=\"text-align: right;\">\n",
       "      <th></th>\n",
       "      <th>Predictions</th>\n",
       "    </tr>\n",
       "  </thead>\n",
       "  <tbody>\n",
       "    <tr>\n",
       "      <th>0</th>\n",
       "      <td>261684.0825</td>\n",
       "    </tr>\n",
       "    <tr>\n",
       "      <th>1</th>\n",
       "      <td>263158.1925</td>\n",
       "    </tr>\n",
       "    <tr>\n",
       "      <th>2</th>\n",
       "      <td>269415.8775</td>\n",
       "    </tr>\n",
       "    <tr>\n",
       "      <th>3</th>\n",
       "      <td>234481.5175</td>\n",
       "    </tr>\n",
       "    <tr>\n",
       "      <th>4</th>\n",
       "      <td>266116.2175</td>\n",
       "    </tr>\n",
       "  </tbody>\n",
       "</table>\n",
       "</div>"
      ],
      "text/plain": [
       "   Predictions\n",
       "0  261684.0825\n",
       "1  263158.1925\n",
       "2  269415.8775\n",
       "3  234481.5175\n",
       "4  266116.2175"
      ]
     },
     "execution_count": 41,
     "metadata": {},
     "output_type": "execute_result"
    }
   ],
   "source": [
    "submission_df.head()"
   ]
  },
  {
   "cell_type": "code",
   "execution_count": 42,
   "metadata": {},
   "outputs": [
    {
     "name": "stdout",
     "output_type": "stream",
     "text": [
      "RMSE: 4109.91\n"
     ]
    }
   ],
   "source": [
    "predictions = submission_df['Predictions']  \n",
    "\n",
    "scoring_df = pd.read_excel('scoring.xlsx')\n",
    "true_values = scoring_df['Vehicle Population']  \n",
    "\n",
    "# calculate RMSE\n",
    "rmse = root_mean_squared_error(true_values, predictions)\n",
    "print(f'RMSE: {rmse:.2f}')"
   ]
  },
  {
   "cell_type": "code",
   "execution_count": 56,
   "metadata": {},
   "outputs": [],
   "source": [
    "submission_df = 0.1*submission_df1+0.2*submission_df2+0.3*submission_df3+0.4*submission_df4"
   ]
  },
  {
   "cell_type": "code",
   "execution_count": 57,
   "metadata": {},
   "outputs": [
    {
     "name": "stdout",
     "output_type": "stream",
     "text": [
      "RMSE: 3968.33\n"
     ]
    }
   ],
   "source": [
    "predictions = submission_df['Predictions']  # 预测值\n",
    "\n",
    "scoring_df = pd.read_excel('scoring.xlsx')\n",
    "true_values = scoring_df['Vehicle Population']  # 真实值\n",
    "\n",
    "# calculate RMSE\n",
    "rmse = root_mean_squared_error(true_values, predictions)\n",
    "print(f'RMSE: {rmse:.2f}')"
   ]
  },
  {
   "cell_type": "code",
   "execution_count": null,
   "metadata": {},
   "outputs": [],
   "source": []
  }
 ],
 "metadata": {
  "kernelspec": {
   "display_name": "base",
   "language": "python",
   "name": "python3"
  },
  "language_info": {
   "codemirror_mode": {
    "name": "ipython",
    "version": 3
   },
   "file_extension": ".py",
   "mimetype": "text/x-python",
   "name": "python",
   "nbconvert_exporter": "python",
   "pygments_lexer": "ipython3",
   "version": "3.11.5"
  }
 },
 "nbformat": 4,
 "nbformat_minor": 2
}
